{
 "cells": [
  {
   "cell_type": "code",
   "execution_count": 1,
   "metadata": {
    "collapsed": true
   },
   "outputs": [],
   "source": [
    "%matplotlib inline\n",
    "import os\n",
    "import subprocess\n",
    "from scipy.stats.mstats import gmean\n",
    "from __future__ import division"
   ]
  },
  {
   "cell_type": "code",
   "execution_count": 2,
   "metadata": {
    "collapsed": false
   },
   "outputs": [],
   "source": [
    "# Test the agent against all the different maps in 'map'.\n",
    "def testmaps():\n",
    "    test = []\n",
    "\n",
    "    for filename in os.listdir('map'):\n",
    "        result = subprocess.check_output('./agent '+ './map/' + filename, shell=True)\n",
    "        test.append(int(result))\n",
    "\n",
    "    return test"
   ]
  },
  {
   "cell_type": "code",
   "execution_count": 3,
   "metadata": {
    "collapsed": true
   },
   "outputs": [],
   "source": [
    "# Builds the executable\n",
    "def make(strategy):\n",
    "    return subprocess.check_output(\n",
    "     \"g++ main.cpp environment.cpp agent.cpp evaluator.cpp random_num_gen.cpp -o agent -fpermissive \" + strategy,\n",
    "     shell=True\n",
    "    )"
   ]
  },
  {
   "cell_type": "code",
   "execution_count": 4,
   "metadata": {
    "collapsed": true
   },
   "outputs": [],
   "source": [
    "# Measures the goodness of a solution\n",
    "standard_results = [454, 617, 504, 512, 379, 589, 597, 217]\n",
    "\n",
    "def goodness(results):\n",
    "    proportions = [a/b for a,b in zip(results,standard_results)]\n",
    "    return gmean(proportions)"
   ]
  },
  {
   "cell_type": "markdown",
   "metadata": {},
   "source": [
    "## Estrategia: Random\n",
    "\n",
    "Escoje aleatoriamente una acción entre las cuatro."
   ]
  },
  {
   "cell_type": "code",
   "execution_count": 5,
   "metadata": {
    "collapsed": false
   },
   "outputs": [
    {
     "data": {
      "text/plain": [
       "''"
      ]
     },
     "execution_count": 5,
     "metadata": {},
     "output_type": "execute_result"
    }
   ],
   "source": [
    "make(\"\")"
   ]
  },
  {
   "cell_type": "code",
   "execution_count": 10,
   "metadata": {
    "collapsed": false
   },
   "outputs": [
    {
     "name": "stdout",
     "output_type": "stream",
     "text": [
      "[2355, 1341, 2667, 1455, 1380, 3050, 1217, 2974]\n",
      "4.1577728625\n"
     ]
    }
   ],
   "source": [
    "print testmaps()\n",
    "print goodness(testmaps())"
   ]
  },
  {
   "cell_type": "markdown",
   "metadata": {},
   "source": [
    "## Estrategia: Casi aleatoriamente\n",
    "\n",
    "Aleatoriamente, pero omitiendo la acción de observar."
   ]
  },
  {
   "cell_type": "code",
   "execution_count": 8,
   "metadata": {
    "collapsed": false
   },
   "outputs": [
    {
     "name": "stdout",
     "output_type": "stream",
     "text": [
      "[478, 771, 385, 751, 870, 335, 501, 652]\n",
      "1.21828887893\n"
     ]
    }
   ],
   "source": [
    "make(\"-DRANDOMLY\")\n",
    "print testmaps()\n",
    "print goodness(testmaps())"
   ]
  },
  {
   "cell_type": "markdown",
   "metadata": {},
   "source": [
    "## Estrategia: Paredes\n",
    "\n",
    "Evita caminar contra una pare y evita en lo posible girar hacia donde luego encontrará una pared."
   ]
  },
  {
   "cell_type": "code",
   "execution_count": 7,
   "metadata": {
    "collapsed": false
   },
   "outputs": [
    {
     "name": "stdout",
     "output_type": "stream",
     "text": [
      "[764, 912, 496, 804, 820, 1091, 457, 916]\n",
      "1.62978668109\n"
     ]
    }
   ],
   "source": [
    "make(\"-DWALLS\")\n",
    "print testmaps()\n",
    "print goodness(testmaps())"
   ]
  },
  {
   "cell_type": "markdown",
   "metadata": {},
   "source": [
    "## Estrategia: Mapa\n",
    "\n",
    "Primera estrategia determinista. Consulta la memoria para extraer de los sitios donde lleva tiempo sin hacerlo, para evitar chocar contra paredes y para girar. Primer caso determinista."
   ]
  },
  {
   "cell_type": "code",
   "execution_count": 9,
   "metadata": {
    "collapsed": false
   },
   "outputs": [
    {
     "name": "stdout",
     "output_type": "stream",
     "text": [
      "[2355, 1341, 2667, 1455, 1380, 3050, 1217, 2974]\n",
      "4.1577728625\n"
     ]
    }
   ],
   "source": [
    "make(\"-DMAP\")\n",
    "print testmaps()\n",
    "print goodness(testmaps())"
   ]
  },
  {
   "cell_type": "markdown",
   "metadata": {},
   "source": [
    "### Estudio del factor `SUFICIENTE_TRUFA`\n",
    "\n",
    "La constante `SUFICIENTE_TRUFA` determina cuándo el agente cree que ha crecido suficiente trufa para ser recolectada. Lo que hará será empezar a recolectar una vez haya suficiente. La variación de esta constante variará la frecuencia con la \n",
    "que se recolecta.\n",
    "\n",
    "Un factor razonable es `10.000`, porque se llega a él en el tiempo esperado de crecimiento de una trufa con crecimiento del `p = 1.5`. Pero probar valores por encima y por debajo puede ser interesante. Se presenta una gráfica con la variación de la bondad según la variación de esta constante."
   ]
  },
  {
   "cell_type": "code",
   "execution_count": 14,
   "metadata": {
    "collapsed": false
   },
   "outputs": [
    {
     "name": "stdout",
     "output_type": "stream",
     "text": [
      "4.1577728625\n"
     ]
    }
   ],
   "source": [
    "make(\"-DMAP -DSUFICIENTE_TRUFA=\" + str(4500))\n",
    "print goodness(testmaps())"
   ]
  },
  {
   "cell_type": "code",
   "execution_count": 125,
   "metadata": {
    "collapsed": false
   },
   "outputs": [],
   "source": [
    "from pylab import *\n",
    "x = linspace(0,20000,41)\n",
    "y = []\n",
    "for xi in x:\n",
    "    make(\"-DMAP -DSUFICIENTE_TRUFA=\" + str(xi))\n",
    "    y.append(goodness(testmaps())) "
   ]
  },
  {
   "cell_type": "code",
   "execution_count": 126,
   "metadata": {
    "collapsed": false
   },
   "outputs": [
    {
     "data": {
      "image/png": "[encoded data removed]",
      "text/plain": [
       "<matplotlib.figure.Figure at 0x7fd73fc83fd0>"
      ]
     },
     "metadata": {},
     "output_type": "display_data"
    }
   ],
   "source": [
    "figure()\n",
    "plot(x, y, 'r')\n",
    "xlabel('factor')\n",
    "ylabel('trufa')\n",
    "title('SUFICIENTE TRUFA')\n",
    "show()"
   ]
  },
  {
   "cell_type": "markdown",
   "metadata": {},
   "source": [
    "Obtenemos que el valor general más razonable para `SUFICIENTE_TRUFA` está alrededor de los `4500`."
   ]
  },
  {
   "cell_type": "code",
   "execution_count": 127,
   "metadata": {
    "collapsed": true
   },
   "outputs": [],
   "source": [
    "x = linspace(2000,6000,11)\n",
    "y = []\n",
    "for xi in x:\n",
    "    make(\"-DMAP -DSUFICIENTE_TRUFA=\" + str(xi))\n",
    "    y.append(goodness(testmaps())) "
   ]
  },
  {
   "cell_type": "code",
   "execution_count": 128,
   "metadata": {
    "collapsed": false
   },
   "outputs": [
    {
     "data": {
      "image/png": "[encoded data removed]",
      "text/plain": [
       "<matplotlib.figure.Figure at 0x7fd73fd47f10>"
      ]
     },
     "metadata": {},
     "output_type": "display_data"
    }
   ],
   "source": [
    "figure()\n",
    "plot(x, y, 'r')\n",
    "xlabel('factor')\n",
    "ylabel('trufa')\n",
    "title('SUFICIENTE TRUFA')\n",
    "show()"
   ]
  }
 ],
 "metadata": {
  "kernelspec": {
   "display_name": "Python 2",
   "language": "python",
   "name": "python2"
  },
  "language_info": {
   "codemirror_mode": {
    "name": "ipython",
    "version": 2
   },
   "file_extension": ".py",
   "mimetype": "text/x-python",
   "name": "python",
   "nbconvert_exporter": "python",
   "pygments_lexer": "ipython2",
   "version": "2.7.6"
  }
 },
 "nbformat": 4,
 "nbformat_minor": 0
}
