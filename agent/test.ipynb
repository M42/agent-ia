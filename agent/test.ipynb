{
 "cells": [
  {
   "cell_type": "code",
   "execution_count": 102,
   "metadata": {
    "collapsed": true
   },
   "outputs": [],
   "source": [
    "%matplotlib inline\n",
    "import os\n",
    "import subprocess\n",
    "from scipy.stats.mstats import gmean\n",
    "from __future__ import division"
   ]
  },
  {
   "cell_type": "code",
   "execution_count": 38,
   "metadata": {
    "collapsed": false
   },
   "outputs": [],
   "source": [
    "# Test the agent against all the different maps in 'map'.\n",
    "def testmaps():\n",
    "    test = []\n",
    "\n",
    "    for filename in os.listdir('map'):\n",
    "        result = subprocess.check_output('./agent '+ './map/' + filename, shell=True)\n",
    "        test.append(int(result))\n",
    "\n",
    "    return test"
   ]
  },
  {
   "cell_type": "code",
   "execution_count": 39,
   "metadata": {
    "collapsed": true
   },
   "outputs": [],
   "source": [
    "# Builds the executable\n",
    "def make(strategy):\n",
    "    return subprocess.check_output(\n",
    "     \"g++ main.cpp environment.cpp agent.cpp evaluator.cpp random_num_gen.cpp -o agent -fpermissive \" + strategy,\n",
    "     shell=True\n",
    "    )"
   ]
  },
  {
   "cell_type": "code",
   "execution_count": 40,
   "metadata": {
    "collapsed": true
   },
   "outputs": [],
   "source": [
    "# Measures the goodness of a solution\n",
    "standard_results = [454, 617, 504, 512, 379, 589, 597, 217]\n",
    "\n",
    "def goodness(results):\n",
    "    proportions = [a/b for a,b in zip(results,standard_results)]\n",
    "    return gmean(proportions)"
   ]
  },
  {
   "cell_type": "markdown",
   "metadata": {},
   "source": [
    "## Estrategia: Random\n",
    "\n",
    "Escoje aleatoriamente una acción entre las cuatro."
   ]
  },
  {
   "cell_type": "code",
   "execution_count": 41,
   "metadata": {
    "collapsed": false
   },
   "outputs": [
    {
     "data": {
      "text/plain": [
       "''"
      ]
     },
     "execution_count": 41,
     "metadata": {},
     "output_type": "execute_result"
    }
   ],
   "source": [
    "make(\"\")"
   ]
  },
  {
   "cell_type": "code",
   "execution_count": 42,
   "metadata": {
    "collapsed": false
   },
   "outputs": [
    {
     "name": "stdout",
     "output_type": "stream",
     "text": [
      "[454, 617, 504, 512, 379, 589, 597, 217]\n",
      "1.0\n"
     ]
    }
   ],
   "source": [
    "print testmaps()\n",
    "print goodness(testmaps())"
   ]
  },
  {
   "cell_type": "markdown",
   "metadata": {},
   "source": [
    "## Estrategia: Casi aleatoriamente\n",
    "\n",
    "Aleatoriamente, pero omitiendo la acción de observar."
   ]
  },
  {
   "cell_type": "code",
   "execution_count": 70,
   "metadata": {
    "collapsed": false
   },
   "outputs": [
    {
     "name": "stdout",
     "output_type": "stream",
     "text": [
      "[660, 365, 400, 653, 770, 406, 417, 503]\n",
      "1.08871093732\n"
     ]
    }
   ],
   "source": [
    "make(\"-DRANDOMLY\")\n",
    "print testmaps()\n",
    "print goodness(testmaps())"
   ]
  },
  {
   "cell_type": "markdown",
   "metadata": {},
   "source": [
    "## Estrategia: Paredes\n",
    "\n",
    "Evita caminar contra una pare y evita en lo posible girar hacia donde luego encontrará una pared."
   ]
  },
  {
   "cell_type": "code",
   "execution_count": 63,
   "metadata": {
    "collapsed": false
   },
   "outputs": [
    {
     "data": {
      "text/plain": [
       "''"
      ]
     },
     "execution_count": 63,
     "metadata": {},
     "output_type": "execute_result"
    }
   ],
   "source": [
    "make(\"-DWALLS\")"
   ]
  },
  {
   "cell_type": "code",
   "execution_count": 64,
   "metadata": {
    "collapsed": false
   },
   "outputs": [
    {
     "name": "stdout",
     "output_type": "stream",
     "text": [
      "[793, 954, 332, 851, 1077, 867, 727, 477]\n",
      "1.54879286429\n"
     ]
    }
   ],
   "source": [
    "print testmaps()\n",
    "print goodness(testmaps())"
   ]
  },
  {
   "cell_type": "markdown",
   "metadata": {},
   "source": [
    "## Estrategia: Mapa\n",
    "\n",
    "Primera estrategia determinista. Consulta la memoria para extraer de los sitios donde lleva tiempo sin hacerlo, para evitar chocar contra paredes y para girar. Primer caso determinista."
   ]
  },
  {
   "cell_type": "code",
   "execution_count": 109,
   "metadata": {
    "collapsed": false
   },
   "outputs": [
    {
     "name": "stdout",
     "output_type": "stream",
     "text": [
      "[2604, 1296, 2723, 1379, 1349, 2750, 1211, 2898]\n",
      "4.09403802083\n"
     ]
    }
   ],
   "source": [
    "make(\"-DMAP\")\n",
    "print testmaps()\n",
    "print goodness(testmaps())"
   ]
  },
  {
   "cell_type": "markdown",
   "metadata": {},
   "source": [
    "### Estudio del factor `SUFICIENTE_TRUFA`\n",
    "\n",
    "La constante `SUFICIENTE_TRUFA` determina cuándo el agente cree que ha crecido suficiente trufa para ser recolectada. Lo que hará será empezar a recolectar una vez haya suficiente. La variación de esta constante variará la frecuencia con la que se recolecta.\n",
    "\n",
    "Un factor razonable es `10.000`, porque se llega a él en el tiempo esperado de crecimiento de una trufa con crecimiento del `p = 1.5`. Pero probar valores por encima y por debajo puede ser interesante. Se presenta una gráfica con la variación de la bondad según la variación de esta constante."
   ]
  },
  {
   "cell_type": "code",
   "execution_count": 93,
   "metadata": {
    "collapsed": false
   },
   "outputs": [
    {
     "name": "stdout",
     "output_type": "stream",
     "text": [
      "4.09403802083\n"
     ]
    }
   ],
   "source": [
    "make(\"-DMAP -DSUFICIENTE_TRUFA=\" + str(4000))\n",
    "print goodness(testmaps())"
   ]
  },
  {
   "cell_type": "code",
   "execution_count": 107,
   "metadata": {
    "collapsed": false
   },
   "outputs": [],
   "source": [
    "from pylab import *\n",
    "x = linspace(0,20000,41)\n",
    "y = []\n",
    "for xi in x:\n",
    "    make(\"-DMAP -DSUFICIENTE_TRUFA=\" + str(xi))\n",
    "    y.append(goodness(testmaps())) "
   ]
  },
  {
   "cell_type": "code",
   "execution_count": 106,
   "metadata": {
    "collapsed": false
   },
   "outputs": [
    {
     "data": {
      "image/png": "[encoded data removed]",
      "text/plain": [
       "<matplotlib.figure.Figure at 0x7fd73fd47ad0>"
      ]
     },
     "metadata": {},
     "output_type": "display_data"
    }
   ],
   "source": [
    "figure()\n",
    "plot(x, y, 'r')\n",
    "xlabel('factor')\n",
    "ylabel('trufa')\n",
    "title('SUFICIENTE TRUFA')\n",
    "show()"
   ]
  },
  {
   "cell_type": "markdown",
   "metadata": {},
   "source": [
    "Obtenemos que el valor general más razonable para `SUFICIENTE_TRUFA` está alrededor de los `4000`."
   ]
  }
 ],
 "metadata": {
  "kernelspec": {
   "display_name": "Python 2",
   "language": "python",
   "name": "python2"
  },
  "language_info": {
   "codemirror_mode": {
    "name": "ipython",
    "version": 2
   },
   "file_extension": ".py",
   "mimetype": "text/x-python",
   "name": "python",
   "nbconvert_exporter": "python",
   "pygments_lexer": "ipython2",
   "version": "2.7.6"
  }
 },
 "nbformat": 4,
 "nbformat_minor": 0
}
