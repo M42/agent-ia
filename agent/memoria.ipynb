{
 "cells": [
  {
   "cell_type": "raw",
   "metadata": {},
   "source": [
    "---\n",
    "title: Agente Reactivo: Memoria\n",
    "author: Mario Román\n",
    "---"
   ]
  },
  {
   "cell_type": "markdown",
   "metadata": {},
   "source": [
    "# Descripción de la solución\n",
    "\n",
    "## Mapa del mundo\n",
    "El agente que proponemos es un agente reactivo con memoria, que tiene en cuenta la historia sensorial previa para crear una representación icónica del mundo que le rodea. En particular, el agente almacena un mapa que toma como punto de referencia la posición inicial del agente en el mapa real. Sobre ese mapa se almacena si se han visitado o no las casillas y si en ellas había una pared o estaban libres. Teniendo en cuenta esto, el agente evita moverse hacia las casillas ocupadas.\n",
    "\n",
    "## Valor de una casilla\n",
    "Para decidir hacia qué casilla se dirigirá a cada paso, el agente calcula un valor para cada una de las casillas. Este valor tiene en cuenta:\n",
    "\n",
    "* La cantidad de **trufa** esperada en la casilla.\n",
    "* Un factor que penaliza los **giros**.\n",
    "* Un factor que premia el **explorar** nuevas casillas.\n",
    "\n",
    "Con todo esto, el agente decide dirigirse a la casilla de más valor. El cálculo del valor de una casilla puede verse como un uso simplificado del concepto de *mapa de potencial*.\n",
    "\n",
    "## Decisión de recoger\n",
    "Para decidir si en una determinada casilla el robot debe recoger trufas o seguir moviéndose, se usa el valor esperado de trufas en esa casilla. Este es un valor que se calcula a partir del crecimiento probabilístico esperado a cada paso, y, si supera un cierto umbral marcado por el valor `SUFICIENTE_TRUFA`, se decide recoger."
   ]
  },
  {
   "cell_type": "markdown",
   "metadata": {},
   "source": [
    "# Resultados obtenidos\n",
    "\n",
    "Para medir la bondad de una solución, usamos durante el proceso la media geométrica de las mejoras respecto a la solución aleatoria inicial. Nótese que la media geométrica de las mejoras es comparable independientemente de la referencia."
   ]
  },
  {
   "cell_type": "code",
   "execution_count": 17,
   "metadata": {
    "collapsed": true
   },
   "outputs": [],
   "source": [
    "%matplotlib inline\n",
    "import os\n",
    "import subprocess\n",
    "from scipy.stats.mstats import gmean\n",
    "from __future__ import division"
   ]
  },
  {
   "cell_type": "code",
   "execution_count": 25,
   "metadata": {
    "collapsed": false
   },
   "outputs": [],
   "source": [
    "# Test the agent against all the different maps in 'map'.\n",
    "allmaps = os.listdir('map')\n",
    "\n",
    "def testmaps(maps = allmaps):\n",
    "    test = []\n",
    "\n",
    "    for filename in maps:\n",
    "        result = subprocess.check_output('./agent '+ './map/' + filename, shell=True)\n",
    "        test.append(float(result))\n",
    "\n",
    "    return test"
   ]
  },
  {
   "cell_type": "code",
   "execution_count": 19,
   "metadata": {
    "collapsed": true
   },
   "outputs": [],
   "source": [
    "# Builds the executable\n",
    "def make(strategy):\n",
    "    return subprocess.check_output(\n",
    "     \"g++ main.cpp environment.cpp agent.cpp evaluator.cpp random_num_gen.cpp -o agent -fpermissive \" + strategy,\n",
    "     shell=True\n",
    "    )"
   ]
  },
  {
   "cell_type": "code",
   "execution_count": 38,
   "metadata": {
    "collapsed": true
   },
   "outputs": [],
   "source": [
    "# Measures the goodness of a solution\n",
    "standard_results = [349.2, 634.5, 408.3, 530.6, 660.1, 389.7, 477.7, 498.2]\n",
    "standard_fast_results = [349.2, 408.3, 389.7, 498.2]\n",
    "standard_slow_results = [634.5, 530.6, 660.1, 477.7]\n",
    "\n",
    "def goodness(results, st=standard_results):\n",
    "    proportions = [a/b for a,b in zip(results,st)]\n",
    "    return gmean(proportions)"
   ]
  },
  {
   "cell_type": "code",
   "execution_count": 44,
   "metadata": {
    "collapsed": false
   },
   "outputs": [
    {
     "name": "stdout",
     "output_type": "stream",
     "text": [
      "[2610.5, 1330.1, 2790.3, 1453.3, 1365.2, 2981.0, 1219.8, 3042.3]\n",
      "4.04984999091\n"
     ]
    }
   ],
   "source": [
    "make(\"\")\n",
    "print testmaps()\n",
    "print goodness(testmaps())"
   ]
  },
  {
   "cell_type": "markdown",
   "metadata": {},
   "source": [
    "Concluyendo así que nuestra solución es en media `4.0498` veces mejor que la aleatoria."
   ]
  },
  {
   "cell_type": "markdown",
   "metadata": {},
   "source": [
    "# Otras estrategias\n",
    "\n",
    "El resto de estrategias que se implementaron pueden observarse usando complilación condicional sobre el código dado.\n",
    "\n",
    "Para cada solución se muestra su bondad respecto a la solución aleatoria y la lista ordenada alfabéticamente de valores sobre el mapa inicial."
   ]
  },
  {
   "cell_type": "markdown",
   "metadata": {},
   "source": [
    "## Estrategia: Aleatoria\n",
    "\n",
    "Escoje aleatoriamente una acción entre las cuatro. Sólo la usamos como referencia."
   ]
  },
  {
   "cell_type": "code",
   "execution_count": 36,
   "metadata": {
    "collapsed": false
   },
   "outputs": [
    {
     "name": "stdout",
     "output_type": "stream",
     "text": [
      "[349.2, 634.5, 408.3, 530.6, 660.1, 389.7, 477.7, 498.2]\n",
      "1.0\n"
     ]
    }
   ],
   "source": [
    "make(\"-DRANDOM\")\n",
    "print testmaps()\n",
    "print goodness(testmaps())"
   ]
  },
  {
   "cell_type": "markdown",
   "metadata": {},
   "source": [
    "## Estrategia: Casi aleatoriamente\n",
    "\n",
    "Aleatoriamente, pero omitiendo la acción de observar. Mejora sólo sutilmente la aleatoria."
   ]
  },
  {
   "cell_type": "code",
   "execution_count": 14,
   "metadata": {
    "collapsed": false
   },
   "outputs": [
    {
     "name": "stdout",
     "output_type": "stream",
     "text": [
      "[499.5, 726.5, 451.9, 634.4, 807.7, 539.8, 552.8, 689.9]\n",
      "1.24805226388\n"
     ]
    }
   ],
   "source": [
    "make(\"-DRANDOMLY\")\n",
    "print testmaps()\n",
    "print goodness(testmaps())"
   ]
  },
  {
   "cell_type": "markdown",
   "metadata": {},
   "source": [
    "## Estrategia: Paredes\n",
    "\n",
    "En esta primera estrategia, se combinaba la aleatoriedad con una representación icónica del mundo. Evitaba caminar contra una pared y evita en lo posible girar hacia donde luego encontrará una pared. La solución final fue un refinamiento de esta solución con el cálculo de valores para cada casilla."
   ]
  },
  {
   "cell_type": "code",
   "execution_count": 23,
   "metadata": {
    "collapsed": false
   },
   "outputs": [
    {
     "name": "stdout",
     "output_type": "stream",
     "text": [
      "[895.3, 890.1, 628.3, 846.1, 877.6, 893.7, 641.6, 833.4]\n",
      "1.66986494108\n"
     ]
    }
   ],
   "source": [
    "make(\"-DWALLS\")\n",
    "print testmaps()\n",
    "print goodness(testmaps())"
   ]
  },
  {
   "cell_type": "markdown",
   "metadata": {},
   "source": [
    "## Refinamientos de la solución\n",
    "### Estudio del factor `SUFICIENTE_TRUFA`\n",
    "\n",
    "La constante `SUFICIENTE_TRUFA` determina cuándo el agente cree que ha crecido suficiente trufa para ser recolectada. Lo que hará será empezar a recolectar una vez haya suficiente. La variación de esta constante variará la frecuencia con la \n",
    "que se recolecta.\n",
    "\n",
    "Un factor razonable es `10.000`, porque se llega a él en el tiempo esperado de crecimiento de una trufa con crecimiento del `p = 1.5`. Pero probar valores por encima y por debajo puede ser interesante. Se presenta una gráfica con la variación de la bondad según la variación de esta constante."
   ]
  },
  {
   "cell_type": "code",
   "execution_count": 43,
   "metadata": {
    "collapsed": false
   },
   "outputs": [
    {
     "name": "stdout",
     "output_type": "stream",
     "text": [
      "4.04984999091\n"
     ]
    }
   ],
   "source": [
    "make(\"-DMAP -DSUFICIENTE_TRUFA=\" + str(4500))\n",
    "print goodness(testmaps())"
   ]
  },
  {
   "cell_type": "code",
   "execution_count": 18,
   "metadata": {
    "collapsed": false
   },
   "outputs": [],
   "source": [
    "from pylab import *\n",
    "x = linspace(0,20000,41)\n",
    "y = []\n",
    "for xi in x:\n",
    "    make(\"-DMAP -DSUFICIENTE_TRUFA=\" + str(xi))\n",
    "    y.append(goodness(testmaps())) "
   ]
  },
  {
   "cell_type": "code",
   "execution_count": 19,
   "metadata": {
    "collapsed": false
   },
   "outputs": [
    {
     "data": {
      "image/png": "[encoded data removed]",
      "text/plain": [
       "<matplotlib.figure.Figure at 0x7fd7a4cafa10>"
      ]
     },
     "metadata": {},
     "output_type": "display_data"
    }
   ],
   "source": [
    "figure()\n",
    "plot(x, y, 'r')\n",
    "xlabel('factor')\n",
    "ylabel('trufa')\n",
    "title('SUFICIENTE TRUFA')\n",
    "show()"
   ]
  },
  {
   "cell_type": "markdown",
   "metadata": {},
   "source": [
    "Obtenemos que el valor general más razonable para `SUFICIENTE_TRUFA` está alrededor de los `4500`."
   ]
  },
  {
   "cell_type": "markdown",
   "metadata": {},
   "source": [
    "### El factor en mapas de crecimiento rápido y lento\n",
    "\n",
    "Podemos particularizar el estudio a cada uno de los dos posibles casos."
   ]
  },
  {
   "cell_type": "code",
   "execution_count": 45,
   "metadata": {
    "collapsed": false
   },
   "outputs": [
    {
     "name": "stdout",
     "output_type": "stream",
     "text": [
      "[2610.5, 2790.3, 2981.0, 3042.3]\n",
      "6.98936493018\n",
      "[1330.1, 1453.3, 1365.2, 1219.8]\n",
      "4.99451924612\n",
      "[2610.5, 1330.1, 2790.3, 1453.3, 1365.2, 2981.0, 1219.8, 3042.3]\n",
      "4.04984999091\n"
     ]
    }
   ],
   "source": [
    "rapidmaps = ['mapa3_rap.map',\n",
    "             'agent_rap.map',\n",
    "             'mapa2_rap.map',\n",
    "             'mapa1_rap.map']\n",
    "\n",
    "slowmaps = ['mapa2.map',\n",
    "            'mapa3.map',\n",
    "            'mapa1.map',\n",
    "            'agent.map']\n",
    "\n",
    "print testmaps(rapidmaps)\n",
    "print goodness(testmaps(rapidmaps),standard_fast_results)\n",
    "print testmaps(slowmaps)\n",
    "print goodness(testmaps(rapidmaps),standard_slow_results)\n",
    "\n",
    "print testmaps()\n",
    "print goodness(testmaps())"
   ]
  },
  {
   "cell_type": "code",
   "execution_count": 46,
   "metadata": {
    "collapsed": false
   },
   "outputs": [],
   "source": [
    "from pylab import *\n",
    "x = linspace(0,10000,41)\n",
    "y = []\n",
    "for xi in x:\n",
    "    make(\"-DMAP -DSUFICIENTE_TRUFA=\" + str(xi))\n",
    "    y.append(goodness(testmaps(rapidmaps), standard_fast_results))"
   ]
  },
  {
   "cell_type": "code",
   "execution_count": 48,
   "metadata": {
    "collapsed": false
   },
   "outputs": [
    {
     "data": {
      "image/png": "[encoded data removed]",
      "text/plain": [
       "<matplotlib.figure.Figure at 0x7fc70b5551d0>"
      ]
     },
     "metadata": {},
     "output_type": "display_data"
    }
   ],
   "source": [
    "figure()\n",
    "plot(x, y, 'r')\n",
    "xlabel('factor')\n",
    "ylabel('trufa')\n",
    "title('SUFICIENTE TRUFA - Rapid')\n",
    "show()"
   ]
  },
  {
   "cell_type": "code",
   "execution_count": 49,
   "metadata": {
    "collapsed": true
   },
   "outputs": [],
   "source": [
    "from pylab import *\n",
    "x = linspace(0,10000,41)\n",
    "y = []\n",
    "for xi in x:\n",
    "    make(\"-DMAP -DSUFICIENTE_TRUFA=\" + str(xi))\n",
    "    y.append(goodness(testmaps(slowmaps), standard_slow_results))"
   ]
  },
  {
   "cell_type": "code",
   "execution_count": 50,
   "metadata": {
    "collapsed": false
   },
   "outputs": [
    {
     "data": {
      "image/png": "[encoded data removed]",
      "text/plain": [
       "<matplotlib.figure.Figure at 0x7fc72c3e4610>"
      ]
     },
     "metadata": {},
     "output_type": "display_data"
    }
   ],
   "source": [
    "figure()\n",
    "plot(x, y, 'r')\n",
    "xlabel('factor')\n",
    "ylabel('trufa')\n",
    "title('SUFICIENTE TRUFA - Lento')\n",
    "show()"
   ]
  },
  {
   "cell_type": "markdown",
   "metadata": {},
   "source": [
    "### Estudio del factor de giro\n",
    "\n",
    "El factor de giro mide la relación entre la bondad de una casilla y el coste en tiempo de girar para alcanzarla. Cuanto mayor sea, menos valor se le otorga a las casillas a las que se deba girar para alcanzarlas. El factor original era de `1.5`. Probaremos valores razonables entre `1` y `2`.\n",
    "\n",
    "Encontramos que no podemos establecer ninguna correlación razonable. Tomaremos un factor de giro de `1.1`."
   ]
  },
  {
   "cell_type": "code",
   "execution_count": 29,
   "metadata": {
    "collapsed": true
   },
   "outputs": [],
   "source": [
    "from pylab import *\n",
    "x = linspace(1,1.5,11)\n",
    "y = []\n",
    "for xi in x:\n",
    "    make(\"-DMAP -DFACTOR_GIRO=\" + str(xi))\n",
    "    y.append(goodness(testmaps())) "
   ]
  },
  {
   "cell_type": "code",
   "execution_count": 30,
   "metadata": {
    "collapsed": false
   },
   "outputs": [
    {
     "data": {
      "image/png": "[encoded data removed]",
      "text/plain": [
       "<matplotlib.figure.Figure at 0x7fd7a4c03f10>"
      ]
     },
     "metadata": {},
     "output_type": "display_data"
    }
   ],
   "source": [
    "figure()\n",
    "plot(x, y, 'r')\n",
    "xlabel('factor')\n",
    "ylabel('trufa')\n",
    "title('FACTOR GIRO')\n",
    "show()"
   ]
  }
 ],
 "metadata": {
  "kernelspec": {
   "display_name": "Python 2",
   "language": "python",
   "name": "python2"
  },
  "language_info": {
   "codemirror_mode": {
    "name": "ipython",
    "version": 2
   },
   "file_extension": ".py",
   "mimetype": "text/x-python",
   "name": "python",
   "nbconvert_exporter": "python",
   "pygments_lexer": "ipython2",
   "version": "2.7.6"
  }
 },
 "nbformat": 4,
 "nbformat_minor": 0
}
